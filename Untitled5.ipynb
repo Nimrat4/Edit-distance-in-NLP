{
  "nbformat": 4,
  "nbformat_minor": 0,
  "metadata": {
    "colab": {
      "provenance": [],
      "authorship_tag": "ABX9TyMlGGx8eB7myifyzr6XRGBn",
      "include_colab_link": true
    },
    "kernelspec": {
      "name": "python3",
      "display_name": "Python 3"
    },
    "language_info": {
      "name": "python"
    }
  },
  "cells": [
    {
      "cell_type": "markdown",
      "metadata": {
        "id": "view-in-github",
        "colab_type": "text"
      },
      "source": [
        "<a href=\"https://colab.research.google.com/github/Nimrat4/Edit-distance-in-NLP/blob/main/Untitled5.ipynb\" target=\"_parent\"><img src=\"https://colab.research.google.com/assets/colab-badge.svg\" alt=\"Open In Colab\"/></a>"
      ]
    },
    {
      "cell_type": "code",
      "execution_count": null,
      "metadata": {
        "colab": {
          "base_uri": "https://localhost:8080/"
        },
        "id": "6OUOJ5RrOcEZ",
        "outputId": "fc77dfda-3cf5-4410-9e99-8c10a7f8b133"
      },
      "outputs": [
        {
          "output_type": "stream",
          "name": "stdout",
          "text": [
            "\n",
            "Edit Distance between 'kitten' and 'sitting': 5\n",
            "Insert 's' at position 1\n",
            "Delete 'k' from position 1\n",
            "Insert 'i' at position 5\n",
            "Delete 'e' from position 5\n",
            "Insert 'g' at position 7\n",
            "\n",
            "Edit Distance between 'flaw' and 'lawn': 2\n",
            "Delete 'f' from position 1\n",
            "Insert 'n' at position 5\n",
            "\n",
            "Edit Distance between 'distance' and 'editing': 7\n",
            "Insert 'e' at position 1\n",
            "Delete 's' from position 3\n",
            "Insert 'i' at position 5\n",
            "Delete 'a' from position 5\n",
            "Insert 'g' at position 7\n",
            "Delete 'c' from position 7\n",
            "Delete 'e' from position 8\n"
          ]
        }
      ],
      "source": [
        "import numpy as np\n",
        "\n",
        "def calculate_edit_distance(s1, s2): #function takes 2 strings s1 and s2 and computes the no. of edits required to tuen s1 into s2 lets say kitten and sitting\n",
        "    m, n = len(s1), len(s2) #m and n strores the length of strings s1 and s2 res. m=6 , n=7\n",
        "    D = np.zeros((m + 1, n + 1)) #2d numpy array matrix initiialized with 0 , a 7*8 matrix is made initialized at 0\n",
        "    for i in range(m + 1):\n",
        "        D[i, 0] = i #(fills the first column representing the cost of deleting all characters in kitten)\n",
        "    for j in range(n + 1):\n",
        "        D[0, j] = j #fills first row representing the cose of inserting all characters in sitting\n",
        "\n",
        "\n",
        "    for i in range(1, m + 1): #loops through each cell in the matrix  to fill matrix with minimal cost iteration over evry characters in kitten and sitting\n",
        "        for j in range(1, n + 1):\n",
        "            cost = 0 if s1[i - 1] == s2[j - 1] else 2\n",
        "            D[i, j] = min(D[i - 1, j] + 1, D[i, j - 1] + 1, D[i - 1, j - 1] + cost) #if character match then cost 0, if dont match cost 2\n",
        "    i, j, ops = m, n, [] #ops is empty list to store operations i=6, j-7 is the min length for operations\n",
        "    while i > 0 or j > 0:\n",
        "        if i > 0 and D[i, j] == D[i - 1, j] + 1:\n",
        "            ops.append(f\"Delete '{s1[i - 1]}' from position {i}\"); i -= 1\n",
        "        elif j > 0 and D[i, j] == D[i, j - 1] + 1:\n",
        "            ops.append(f\"Insert '{s2[j - 1]}' at position {i + 1}\"); j -= 1\n",
        "        else:\n",
        "            if s1[i - 1] != s2[j - 1]:\n",
        "                ops.append(f\"Replace '{s1[i - 1]}' with '{s2[j - 1]}' at position {i}\")\n",
        "            i -= 1; j -= 1\n",
        "\n",
        "    return D[m, n], ops[::-1]\n",
        "\n",
        "for a, b in [(\"kitten\", \"sitting\"), (\"flaw\", \"lawn\"), (\"distance\", \"editing\")]:\n",
        "    d, steps = calculate_edit_distance(a, b)\n",
        "    print(f\"\\nEdit Distance between '{a}' and '{b}': {d}\")\n",
        "    print(\"\\n\".join(steps))\n"
      ]
    }
  ]
}